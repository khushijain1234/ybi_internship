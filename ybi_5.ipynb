{
 "cells": [
  {
   "cell_type": "code",
   "execution_count": 1,
   "id": "3cdde17f",
   "metadata": {},
   "outputs": [],
   "source": [
    "import pandas as pd"
   ]
  },
  {
   "cell_type": "code",
   "execution_count": 2,
   "id": "7d071dde",
   "metadata": {},
   "outputs": [],
   "source": [
    "import numpy as np"
   ]
  },
  {
   "cell_type": "code",
   "execution_count": 3,
   "id": "4854dfc0",
   "metadata": {},
   "outputs": [],
   "source": [
    "df=pd.read_csv(r'https://github.com/YBI-Foundation/Dataset/raw/main/Hill%20Valley%20Dataset.csv')"
   ]
  },
  {
   "cell_type": "code",
   "execution_count": 4,
   "id": "fb4d13b6",
   "metadata": {},
   "outputs": [
    {
     "data": {
      "text/html": [
       "<div>\n",
       "<style scoped>\n",
       "    .dataframe tbody tr th:only-of-type {\n",
       "        vertical-align: middle;\n",
       "    }\n",
       "\n",
       "    .dataframe tbody tr th {\n",
       "        vertical-align: top;\n",
       "    }\n",
       "\n",
       "    .dataframe thead th {\n",
       "        text-align: right;\n",
       "    }\n",
       "</style>\n",
       "<table border=\"1\" class=\"dataframe\">\n",
       "  <thead>\n",
       "    <tr style=\"text-align: right;\">\n",
       "      <th></th>\n",
       "      <th>V1</th>\n",
       "      <th>V2</th>\n",
       "      <th>V3</th>\n",
       "      <th>V4</th>\n",
       "      <th>V5</th>\n",
       "      <th>V6</th>\n",
       "      <th>V7</th>\n",
       "      <th>V8</th>\n",
       "      <th>V9</th>\n",
       "      <th>V10</th>\n",
       "      <th>...</th>\n",
       "      <th>V92</th>\n",
       "      <th>V93</th>\n",
       "      <th>V94</th>\n",
       "      <th>V95</th>\n",
       "      <th>V96</th>\n",
       "      <th>V97</th>\n",
       "      <th>V98</th>\n",
       "      <th>V99</th>\n",
       "      <th>V100</th>\n",
       "      <th>Class</th>\n",
       "    </tr>\n",
       "  </thead>\n",
       "  <tbody>\n",
       "    <tr>\n",
       "      <th>0</th>\n",
       "      <td>39.02</td>\n",
       "      <td>36.49</td>\n",
       "      <td>38.20</td>\n",
       "      <td>38.85</td>\n",
       "      <td>39.38</td>\n",
       "      <td>39.74</td>\n",
       "      <td>37.02</td>\n",
       "      <td>39.53</td>\n",
       "      <td>38.81</td>\n",
       "      <td>38.79</td>\n",
       "      <td>...</td>\n",
       "      <td>36.62</td>\n",
       "      <td>36.92</td>\n",
       "      <td>38.80</td>\n",
       "      <td>38.52</td>\n",
       "      <td>38.07</td>\n",
       "      <td>36.73</td>\n",
       "      <td>39.46</td>\n",
       "      <td>37.50</td>\n",
       "      <td>39.10</td>\n",
       "      <td>0</td>\n",
       "    </tr>\n",
       "    <tr>\n",
       "      <th>1</th>\n",
       "      <td>1.83</td>\n",
       "      <td>1.71</td>\n",
       "      <td>1.77</td>\n",
       "      <td>1.77</td>\n",
       "      <td>1.68</td>\n",
       "      <td>1.78</td>\n",
       "      <td>1.80</td>\n",
       "      <td>1.70</td>\n",
       "      <td>1.75</td>\n",
       "      <td>1.78</td>\n",
       "      <td>...</td>\n",
       "      <td>1.80</td>\n",
       "      <td>1.79</td>\n",
       "      <td>1.77</td>\n",
       "      <td>1.74</td>\n",
       "      <td>1.74</td>\n",
       "      <td>1.80</td>\n",
       "      <td>1.78</td>\n",
       "      <td>1.75</td>\n",
       "      <td>1.69</td>\n",
       "      <td>1</td>\n",
       "    </tr>\n",
       "    <tr>\n",
       "      <th>2</th>\n",
       "      <td>68177.69</td>\n",
       "      <td>66138.42</td>\n",
       "      <td>72981.88</td>\n",
       "      <td>74304.33</td>\n",
       "      <td>67549.66</td>\n",
       "      <td>69367.34</td>\n",
       "      <td>69169.41</td>\n",
       "      <td>73268.61</td>\n",
       "      <td>74465.84</td>\n",
       "      <td>72503.37</td>\n",
       "      <td>...</td>\n",
       "      <td>73438.88</td>\n",
       "      <td>71053.35</td>\n",
       "      <td>71112.62</td>\n",
       "      <td>74916.48</td>\n",
       "      <td>72571.58</td>\n",
       "      <td>66348.97</td>\n",
       "      <td>71063.72</td>\n",
       "      <td>67404.27</td>\n",
       "      <td>74920.24</td>\n",
       "      <td>1</td>\n",
       "    </tr>\n",
       "    <tr>\n",
       "      <th>3</th>\n",
       "      <td>44889.06</td>\n",
       "      <td>39191.86</td>\n",
       "      <td>40728.46</td>\n",
       "      <td>38576.36</td>\n",
       "      <td>45876.06</td>\n",
       "      <td>47034.00</td>\n",
       "      <td>46611.43</td>\n",
       "      <td>37668.32</td>\n",
       "      <td>40980.89</td>\n",
       "      <td>38466.15</td>\n",
       "      <td>...</td>\n",
       "      <td>42625.67</td>\n",
       "      <td>40684.20</td>\n",
       "      <td>46960.73</td>\n",
       "      <td>44546.80</td>\n",
       "      <td>45410.53</td>\n",
       "      <td>47139.44</td>\n",
       "      <td>43095.68</td>\n",
       "      <td>40888.34</td>\n",
       "      <td>39615.19</td>\n",
       "      <td>0</td>\n",
       "    </tr>\n",
       "    <tr>\n",
       "      <th>4</th>\n",
       "      <td>5.70</td>\n",
       "      <td>5.40</td>\n",
       "      <td>5.28</td>\n",
       "      <td>5.38</td>\n",
       "      <td>5.27</td>\n",
       "      <td>5.61</td>\n",
       "      <td>6.00</td>\n",
       "      <td>5.38</td>\n",
       "      <td>5.34</td>\n",
       "      <td>5.87</td>\n",
       "      <td>...</td>\n",
       "      <td>5.17</td>\n",
       "      <td>5.67</td>\n",
       "      <td>5.60</td>\n",
       "      <td>5.94</td>\n",
       "      <td>5.73</td>\n",
       "      <td>5.22</td>\n",
       "      <td>5.30</td>\n",
       "      <td>5.73</td>\n",
       "      <td>5.91</td>\n",
       "      <td>0</td>\n",
       "    </tr>\n",
       "  </tbody>\n",
       "</table>\n",
       "<p>5 rows × 101 columns</p>\n",
       "</div>"
      ],
      "text/plain": [
       "         V1        V2        V3        V4        V5        V6        V7  \\\n",
       "0     39.02     36.49     38.20     38.85     39.38     39.74     37.02   \n",
       "1      1.83      1.71      1.77      1.77      1.68      1.78      1.80   \n",
       "2  68177.69  66138.42  72981.88  74304.33  67549.66  69367.34  69169.41   \n",
       "3  44889.06  39191.86  40728.46  38576.36  45876.06  47034.00  46611.43   \n",
       "4      5.70      5.40      5.28      5.38      5.27      5.61      6.00   \n",
       "\n",
       "         V8        V9       V10  ...       V92       V93       V94       V95  \\\n",
       "0     39.53     38.81     38.79  ...     36.62     36.92     38.80     38.52   \n",
       "1      1.70      1.75      1.78  ...      1.80      1.79      1.77      1.74   \n",
       "2  73268.61  74465.84  72503.37  ...  73438.88  71053.35  71112.62  74916.48   \n",
       "3  37668.32  40980.89  38466.15  ...  42625.67  40684.20  46960.73  44546.80   \n",
       "4      5.38      5.34      5.87  ...      5.17      5.67      5.60      5.94   \n",
       "\n",
       "        V96       V97       V98       V99      V100  Class  \n",
       "0     38.07     36.73     39.46     37.50     39.10      0  \n",
       "1      1.74      1.80      1.78      1.75      1.69      1  \n",
       "2  72571.58  66348.97  71063.72  67404.27  74920.24      1  \n",
       "3  45410.53  47139.44  43095.68  40888.34  39615.19      0  \n",
       "4      5.73      5.22      5.30      5.73      5.91      0  \n",
       "\n",
       "[5 rows x 101 columns]"
      ]
     },
     "execution_count": 4,
     "metadata": {},
     "output_type": "execute_result"
    }
   ],
   "source": [
    "df.head()"
   ]
  },
  {
   "cell_type": "markdown",
   "id": "958f225c",
   "metadata": {},
   "source": [
    "# Get information of data frames"
   ]
  },
  {
   "cell_type": "code",
   "execution_count": 5,
   "id": "4d80ae55",
   "metadata": {},
   "outputs": [
    {
     "name": "stdout",
     "output_type": "stream",
     "text": [
      "<class 'pandas.core.frame.DataFrame'>\n",
      "RangeIndex: 1212 entries, 0 to 1211\n",
      "Columns: 101 entries, V1 to Class\n",
      "dtypes: float64(100), int64(1)\n",
      "memory usage: 956.5 KB\n"
     ]
    }
   ],
   "source": [
    "df.info()"
   ]
  },
  {
   "cell_type": "markdown",
   "id": "17eaaa61",
   "metadata": {},
   "source": [
    "# Get the summary statistics"
   ]
  },
  {
   "cell_type": "code",
   "execution_count": 6,
   "id": "5d6616c9",
   "metadata": {},
   "outputs": [
    {
     "data": {
      "text/html": [
       "<div>\n",
       "<style scoped>\n",
       "    .dataframe tbody tr th:only-of-type {\n",
       "        vertical-align: middle;\n",
       "    }\n",
       "\n",
       "    .dataframe tbody tr th {\n",
       "        vertical-align: top;\n",
       "    }\n",
       "\n",
       "    .dataframe thead th {\n",
       "        text-align: right;\n",
       "    }\n",
       "</style>\n",
       "<table border=\"1\" class=\"dataframe\">\n",
       "  <thead>\n",
       "    <tr style=\"text-align: right;\">\n",
       "      <th></th>\n",
       "      <th>V1</th>\n",
       "      <th>V2</th>\n",
       "      <th>V3</th>\n",
       "      <th>V4</th>\n",
       "      <th>V5</th>\n",
       "      <th>V6</th>\n",
       "      <th>V7</th>\n",
       "      <th>V8</th>\n",
       "      <th>V9</th>\n",
       "      <th>V10</th>\n",
       "      <th>...</th>\n",
       "      <th>V92</th>\n",
       "      <th>V93</th>\n",
       "      <th>V94</th>\n",
       "      <th>V95</th>\n",
       "      <th>V96</th>\n",
       "      <th>V97</th>\n",
       "      <th>V98</th>\n",
       "      <th>V99</th>\n",
       "      <th>V100</th>\n",
       "      <th>Class</th>\n",
       "    </tr>\n",
       "  </thead>\n",
       "  <tbody>\n",
       "    <tr>\n",
       "      <th>count</th>\n",
       "      <td>1212.000000</td>\n",
       "      <td>1212.000000</td>\n",
       "      <td>1212.000000</td>\n",
       "      <td>1212.000000</td>\n",
       "      <td>1212.000000</td>\n",
       "      <td>1212.000000</td>\n",
       "      <td>1212.000000</td>\n",
       "      <td>1212.000000</td>\n",
       "      <td>1212.000000</td>\n",
       "      <td>1212.000000</td>\n",
       "      <td>...</td>\n",
       "      <td>1212.000000</td>\n",
       "      <td>1212.000000</td>\n",
       "      <td>1212.000000</td>\n",
       "      <td>1212.000000</td>\n",
       "      <td>1212.000000</td>\n",
       "      <td>1212.000000</td>\n",
       "      <td>1212.000000</td>\n",
       "      <td>1212.000000</td>\n",
       "      <td>1212.000000</td>\n",
       "      <td>1212.000000</td>\n",
       "    </tr>\n",
       "    <tr>\n",
       "      <th>mean</th>\n",
       "      <td>8169.091881</td>\n",
       "      <td>8144.306262</td>\n",
       "      <td>8192.653738</td>\n",
       "      <td>8176.868738</td>\n",
       "      <td>8128.297211</td>\n",
       "      <td>8173.030008</td>\n",
       "      <td>8188.582748</td>\n",
       "      <td>8183.641543</td>\n",
       "      <td>8154.670066</td>\n",
       "      <td>8120.767574</td>\n",
       "      <td>...</td>\n",
       "      <td>8120.056815</td>\n",
       "      <td>8125.917409</td>\n",
       "      <td>8158.793812</td>\n",
       "      <td>8140.885421</td>\n",
       "      <td>8213.480611</td>\n",
       "      <td>8185.594002</td>\n",
       "      <td>8140.195355</td>\n",
       "      <td>8192.960891</td>\n",
       "      <td>8156.197376</td>\n",
       "      <td>0.500000</td>\n",
       "    </tr>\n",
       "    <tr>\n",
       "      <th>std</th>\n",
       "      <td>17974.950461</td>\n",
       "      <td>17881.049734</td>\n",
       "      <td>18087.938901</td>\n",
       "      <td>17991.903982</td>\n",
       "      <td>17846.757963</td>\n",
       "      <td>17927.114105</td>\n",
       "      <td>18029.562695</td>\n",
       "      <td>18048.582159</td>\n",
       "      <td>17982.390713</td>\n",
       "      <td>17900.798206</td>\n",
       "      <td>...</td>\n",
       "      <td>17773.190621</td>\n",
       "      <td>17758.182403</td>\n",
       "      <td>17919.510371</td>\n",
       "      <td>17817.945646</td>\n",
       "      <td>18016.445265</td>\n",
       "      <td>17956.084223</td>\n",
       "      <td>17768.356106</td>\n",
       "      <td>18064.781479</td>\n",
       "      <td>17829.310973</td>\n",
       "      <td>0.500206</td>\n",
       "    </tr>\n",
       "    <tr>\n",
       "      <th>min</th>\n",
       "      <td>0.920000</td>\n",
       "      <td>0.900000</td>\n",
       "      <td>0.850000</td>\n",
       "      <td>0.890000</td>\n",
       "      <td>0.880000</td>\n",
       "      <td>0.860000</td>\n",
       "      <td>0.870000</td>\n",
       "      <td>0.650000</td>\n",
       "      <td>0.650000</td>\n",
       "      <td>0.620000</td>\n",
       "      <td>...</td>\n",
       "      <td>0.870000</td>\n",
       "      <td>0.900000</td>\n",
       "      <td>0.870000</td>\n",
       "      <td>0.880000</td>\n",
       "      <td>0.890000</td>\n",
       "      <td>0.890000</td>\n",
       "      <td>0.860000</td>\n",
       "      <td>0.910000</td>\n",
       "      <td>0.890000</td>\n",
       "      <td>0.000000</td>\n",
       "    </tr>\n",
       "    <tr>\n",
       "      <th>25%</th>\n",
       "      <td>19.602500</td>\n",
       "      <td>19.595000</td>\n",
       "      <td>18.925000</td>\n",
       "      <td>19.277500</td>\n",
       "      <td>19.210000</td>\n",
       "      <td>19.582500</td>\n",
       "      <td>18.690000</td>\n",
       "      <td>19.062500</td>\n",
       "      <td>19.532500</td>\n",
       "      <td>19.285000</td>\n",
       "      <td>...</td>\n",
       "      <td>19.197500</td>\n",
       "      <td>18.895000</td>\n",
       "      <td>19.237500</td>\n",
       "      <td>19.385000</td>\n",
       "      <td>19.027500</td>\n",
       "      <td>19.135000</td>\n",
       "      <td>19.205000</td>\n",
       "      <td>18.812500</td>\n",
       "      <td>19.145000</td>\n",
       "      <td>0.000000</td>\n",
       "    </tr>\n",
       "    <tr>\n",
       "      <th>50%</th>\n",
       "      <td>301.425000</td>\n",
       "      <td>295.205000</td>\n",
       "      <td>297.260000</td>\n",
       "      <td>299.720000</td>\n",
       "      <td>295.115000</td>\n",
       "      <td>294.380000</td>\n",
       "      <td>295.935000</td>\n",
       "      <td>290.850000</td>\n",
       "      <td>294.565000</td>\n",
       "      <td>295.160000</td>\n",
       "      <td>...</td>\n",
       "      <td>297.845000</td>\n",
       "      <td>295.420000</td>\n",
       "      <td>299.155000</td>\n",
       "      <td>293.355000</td>\n",
       "      <td>301.370000</td>\n",
       "      <td>296.960000</td>\n",
       "      <td>300.925000</td>\n",
       "      <td>299.200000</td>\n",
       "      <td>302.275000</td>\n",
       "      <td>0.500000</td>\n",
       "    </tr>\n",
       "    <tr>\n",
       "      <th>75%</th>\n",
       "      <td>5358.795000</td>\n",
       "      <td>5417.847500</td>\n",
       "      <td>5393.367500</td>\n",
       "      <td>5388.482500</td>\n",
       "      <td>5321.987500</td>\n",
       "      <td>5328.040000</td>\n",
       "      <td>5443.977500</td>\n",
       "      <td>5283.655000</td>\n",
       "      <td>5378.180000</td>\n",
       "      <td>5319.097500</td>\n",
       "      <td>...</td>\n",
       "      <td>5355.355000</td>\n",
       "      <td>5386.037500</td>\n",
       "      <td>5286.385000</td>\n",
       "      <td>5345.797500</td>\n",
       "      <td>5300.890000</td>\n",
       "      <td>5361.047500</td>\n",
       "      <td>5390.850000</td>\n",
       "      <td>5288.712500</td>\n",
       "      <td>5357.847500</td>\n",
       "      <td>1.000000</td>\n",
       "    </tr>\n",
       "    <tr>\n",
       "      <th>max</th>\n",
       "      <td>117807.870000</td>\n",
       "      <td>108896.480000</td>\n",
       "      <td>119031.350000</td>\n",
       "      <td>110212.590000</td>\n",
       "      <td>113000.470000</td>\n",
       "      <td>116848.390000</td>\n",
       "      <td>115609.240000</td>\n",
       "      <td>118522.320000</td>\n",
       "      <td>112895.900000</td>\n",
       "      <td>117798.300000</td>\n",
       "      <td>...</td>\n",
       "      <td>113858.680000</td>\n",
       "      <td>112948.830000</td>\n",
       "      <td>112409.570000</td>\n",
       "      <td>112933.730000</td>\n",
       "      <td>112037.220000</td>\n",
       "      <td>115110.420000</td>\n",
       "      <td>116431.960000</td>\n",
       "      <td>113291.960000</td>\n",
       "      <td>114533.760000</td>\n",
       "      <td>1.000000</td>\n",
       "    </tr>\n",
       "  </tbody>\n",
       "</table>\n",
       "<p>8 rows × 101 columns</p>\n",
       "</div>"
      ],
      "text/plain": [
       "                  V1             V2             V3             V4  \\\n",
       "count    1212.000000    1212.000000    1212.000000    1212.000000   \n",
       "mean     8169.091881    8144.306262    8192.653738    8176.868738   \n",
       "std     17974.950461   17881.049734   18087.938901   17991.903982   \n",
       "min         0.920000       0.900000       0.850000       0.890000   \n",
       "25%        19.602500      19.595000      18.925000      19.277500   \n",
       "50%       301.425000     295.205000     297.260000     299.720000   \n",
       "75%      5358.795000    5417.847500    5393.367500    5388.482500   \n",
       "max    117807.870000  108896.480000  119031.350000  110212.590000   \n",
       "\n",
       "                  V5             V6             V7             V8  \\\n",
       "count    1212.000000    1212.000000    1212.000000    1212.000000   \n",
       "mean     8128.297211    8173.030008    8188.582748    8183.641543   \n",
       "std     17846.757963   17927.114105   18029.562695   18048.582159   \n",
       "min         0.880000       0.860000       0.870000       0.650000   \n",
       "25%        19.210000      19.582500      18.690000      19.062500   \n",
       "50%       295.115000     294.380000     295.935000     290.850000   \n",
       "75%      5321.987500    5328.040000    5443.977500    5283.655000   \n",
       "max    113000.470000  116848.390000  115609.240000  118522.320000   \n",
       "\n",
       "                  V9            V10  ...            V92            V93  \\\n",
       "count    1212.000000    1212.000000  ...    1212.000000    1212.000000   \n",
       "mean     8154.670066    8120.767574  ...    8120.056815    8125.917409   \n",
       "std     17982.390713   17900.798206  ...   17773.190621   17758.182403   \n",
       "min         0.650000       0.620000  ...       0.870000       0.900000   \n",
       "25%        19.532500      19.285000  ...      19.197500      18.895000   \n",
       "50%       294.565000     295.160000  ...     297.845000     295.420000   \n",
       "75%      5378.180000    5319.097500  ...    5355.355000    5386.037500   \n",
       "max    112895.900000  117798.300000  ...  113858.680000  112948.830000   \n",
       "\n",
       "                 V94            V95            V96            V97  \\\n",
       "count    1212.000000    1212.000000    1212.000000    1212.000000   \n",
       "mean     8158.793812    8140.885421    8213.480611    8185.594002   \n",
       "std     17919.510371   17817.945646   18016.445265   17956.084223   \n",
       "min         0.870000       0.880000       0.890000       0.890000   \n",
       "25%        19.237500      19.385000      19.027500      19.135000   \n",
       "50%       299.155000     293.355000     301.370000     296.960000   \n",
       "75%      5286.385000    5345.797500    5300.890000    5361.047500   \n",
       "max    112409.570000  112933.730000  112037.220000  115110.420000   \n",
       "\n",
       "                 V98            V99           V100        Class  \n",
       "count    1212.000000    1212.000000    1212.000000  1212.000000  \n",
       "mean     8140.195355    8192.960891    8156.197376     0.500000  \n",
       "std     17768.356106   18064.781479   17829.310973     0.500206  \n",
       "min         0.860000       0.910000       0.890000     0.000000  \n",
       "25%        19.205000      18.812500      19.145000     0.000000  \n",
       "50%       300.925000     299.200000     302.275000     0.500000  \n",
       "75%      5390.850000    5288.712500    5357.847500     1.000000  \n",
       "max    116431.960000  113291.960000  114533.760000     1.000000  \n",
       "\n",
       "[8 rows x 101 columns]"
      ]
     },
     "execution_count": 6,
     "metadata": {},
     "output_type": "execute_result"
    }
   ],
   "source": [
    "df.describe()"
   ]
  },
  {
   "cell_type": "markdown",
   "id": "e3484282",
   "metadata": {},
   "source": [
    "# Get Column Names"
   ]
  },
  {
   "cell_type": "code",
   "execution_count": 7,
   "id": "3b7acc8d",
   "metadata": {},
   "outputs": [
    {
     "data": {
      "text/plain": [
       "Index(['V1', 'V2', 'V3', 'V4', 'V5', 'V6', 'V7', 'V8', 'V9', 'V10',\n",
       "       ...\n",
       "       'V92', 'V93', 'V94', 'V95', 'V96', 'V97', 'V98', 'V99', 'V100',\n",
       "       'Class'],\n",
       "      dtype='object', length=101)"
      ]
     },
     "execution_count": 7,
     "metadata": {},
     "output_type": "execute_result"
    }
   ],
   "source": [
    "df.columns"
   ]
  },
  {
   "cell_type": "code",
   "execution_count": 8,
   "id": "1b007cee",
   "metadata": {},
   "outputs": [
    {
     "name": "stdout",
     "output_type": "stream",
     "text": [
      "['V1', 'V2', 'V3', 'V4', 'V5', 'V6', 'V7', 'V8', 'V9', 'V10', 'V11', 'V12', 'V13', 'V14', 'V15', 'V16', 'V17', 'V18', 'V19', 'V20', 'V21', 'V22', 'V23', 'V24', 'V25', 'V26', 'V27', 'V28', 'V29', 'V30', 'V31', 'V32', 'V33', 'V34', 'V35', 'V36', 'V37', 'V38', 'V39', 'V40', 'V41', 'V42', 'V43', 'V44', 'V45', 'V46', 'V47', 'V48', 'V49', 'V50', 'V51', 'V52', 'V53', 'V54', 'V55', 'V56', 'V57', 'V58', 'V59', 'V60', 'V61', 'V62', 'V63', 'V64', 'V65', 'V66', 'V67', 'V68', 'V69', 'V70', 'V71', 'V72', 'V73', 'V74', 'V75', 'V76', 'V77', 'V78', 'V79', 'V80', 'V81', 'V82', 'V83', 'V84', 'V85', 'V86', 'V87', 'V88', 'V89', 'V90', 'V91', 'V92', 'V93', 'V94', 'V95', 'V96', 'V97', 'V98', 'V99', 'V100', 'Class']\n"
     ]
    }
   ],
   "source": [
    "print(df.columns.tolist())"
   ]
  },
  {
   "cell_type": "markdown",
   "id": "dfec7ce2",
   "metadata": {},
   "source": [
    "# Get Shape of DataFrame "
   ]
  },
  {
   "cell_type": "code",
   "execution_count": 9,
   "id": "6137151a",
   "metadata": {},
   "outputs": [
    {
     "data": {
      "text/plain": [
       "(1212, 101)"
      ]
     },
     "execution_count": 9,
     "metadata": {},
     "output_type": "execute_result"
    }
   ],
   "source": [
    "df.shape"
   ]
  },
  {
   "cell_type": "code",
   "execution_count": 10,
   "id": "c115dbbf",
   "metadata": {},
   "outputs": [
    {
     "data": {
      "text/plain": [
       "0    606\n",
       "1    606\n",
       "Name: Class, dtype: int64"
      ]
     },
     "execution_count": 10,
     "metadata": {},
     "output_type": "execute_result"
    }
   ],
   "source": [
    "df['Class'].value_counts()"
   ]
  },
  {
   "cell_type": "code",
   "execution_count": 11,
   "id": "37aaa633",
   "metadata": {
    "scrolled": true
   },
   "outputs": [
    {
     "data": {
      "text/html": [
       "<div>\n",
       "<style scoped>\n",
       "    .dataframe tbody tr th:only-of-type {\n",
       "        vertical-align: middle;\n",
       "    }\n",
       "\n",
       "    .dataframe tbody tr th {\n",
       "        vertical-align: top;\n",
       "    }\n",
       "\n",
       "    .dataframe thead th {\n",
       "        text-align: right;\n",
       "    }\n",
       "</style>\n",
       "<table border=\"1\" class=\"dataframe\">\n",
       "  <thead>\n",
       "    <tr style=\"text-align: right;\">\n",
       "      <th></th>\n",
       "      <th>V1</th>\n",
       "      <th>V2</th>\n",
       "      <th>V3</th>\n",
       "      <th>V4</th>\n",
       "      <th>V5</th>\n",
       "      <th>V6</th>\n",
       "      <th>V7</th>\n",
       "      <th>V8</th>\n",
       "      <th>V9</th>\n",
       "      <th>V10</th>\n",
       "      <th>...</th>\n",
       "      <th>V91</th>\n",
       "      <th>V92</th>\n",
       "      <th>V93</th>\n",
       "      <th>V94</th>\n",
       "      <th>V95</th>\n",
       "      <th>V96</th>\n",
       "      <th>V97</th>\n",
       "      <th>V98</th>\n",
       "      <th>V99</th>\n",
       "      <th>V100</th>\n",
       "    </tr>\n",
       "    <tr>\n",
       "      <th>Class</th>\n",
       "      <th></th>\n",
       "      <th></th>\n",
       "      <th></th>\n",
       "      <th></th>\n",
       "      <th></th>\n",
       "      <th></th>\n",
       "      <th></th>\n",
       "      <th></th>\n",
       "      <th></th>\n",
       "      <th></th>\n",
       "      <th></th>\n",
       "      <th></th>\n",
       "      <th></th>\n",
       "      <th></th>\n",
       "      <th></th>\n",
       "      <th></th>\n",
       "      <th></th>\n",
       "      <th></th>\n",
       "      <th></th>\n",
       "      <th></th>\n",
       "      <th></th>\n",
       "    </tr>\n",
       "  </thead>\n",
       "  <tbody>\n",
       "    <tr>\n",
       "      <th>0</th>\n",
       "      <td>7913.333251</td>\n",
       "      <td>7825.339967</td>\n",
       "      <td>7902.497294</td>\n",
       "      <td>7857.032079</td>\n",
       "      <td>7775.610198</td>\n",
       "      <td>7875.436337</td>\n",
       "      <td>7804.166584</td>\n",
       "      <td>7722.324802</td>\n",
       "      <td>7793.328416</td>\n",
       "      <td>7686.782046</td>\n",
       "      <td>...</td>\n",
       "      <td>7753.427244</td>\n",
       "      <td>7737.843366</td>\n",
       "      <td>7799.332079</td>\n",
       "      <td>7825.211700</td>\n",
       "      <td>7791.354010</td>\n",
       "      <td>7927.237112</td>\n",
       "      <td>7874.502343</td>\n",
       "      <td>7844.227459</td>\n",
       "      <td>7875.338713</td>\n",
       "      <td>7855.181172</td>\n",
       "    </tr>\n",
       "    <tr>\n",
       "      <th>1</th>\n",
       "      <td>8424.850512</td>\n",
       "      <td>8463.272558</td>\n",
       "      <td>8482.810182</td>\n",
       "      <td>8496.705396</td>\n",
       "      <td>8480.984224</td>\n",
       "      <td>8470.623680</td>\n",
       "      <td>8572.998911</td>\n",
       "      <td>8644.958284</td>\n",
       "      <td>8516.011716</td>\n",
       "      <td>8554.753102</td>\n",
       "      <td>...</td>\n",
       "      <td>8478.513399</td>\n",
       "      <td>8502.270264</td>\n",
       "      <td>8452.502739</td>\n",
       "      <td>8492.375924</td>\n",
       "      <td>8490.416832</td>\n",
       "      <td>8499.724109</td>\n",
       "      <td>8496.685660</td>\n",
       "      <td>8436.163251</td>\n",
       "      <td>8510.583069</td>\n",
       "      <td>8457.213581</td>\n",
       "    </tr>\n",
       "  </tbody>\n",
       "</table>\n",
       "<p>2 rows × 100 columns</p>\n",
       "</div>"
      ],
      "text/plain": [
       "                V1           V2           V3           V4           V5  \\\n",
       "Class                                                                    \n",
       "0      7913.333251  7825.339967  7902.497294  7857.032079  7775.610198   \n",
       "1      8424.850512  8463.272558  8482.810182  8496.705396  8480.984224   \n",
       "\n",
       "                V6           V7           V8           V9          V10  ...  \\\n",
       "Class                                                                   ...   \n",
       "0      7875.436337  7804.166584  7722.324802  7793.328416  7686.782046  ...   \n",
       "1      8470.623680  8572.998911  8644.958284  8516.011716  8554.753102  ...   \n",
       "\n",
       "               V91          V92          V93          V94          V95  \\\n",
       "Class                                                                    \n",
       "0      7753.427244  7737.843366  7799.332079  7825.211700  7791.354010   \n",
       "1      8478.513399  8502.270264  8452.502739  8492.375924  8490.416832   \n",
       "\n",
       "               V96          V97          V98          V99         V100  \n",
       "Class                                                                   \n",
       "0      7927.237112  7874.502343  7844.227459  7875.338713  7855.181172  \n",
       "1      8499.724109  8496.685660  8436.163251  8510.583069  8457.213581  \n",
       "\n",
       "[2 rows x 100 columns]"
      ]
     },
     "execution_count": 11,
     "metadata": {},
     "output_type": "execute_result"
    }
   ],
   "source": [
    "df.groupby('Class').mean()"
   ]
  },
  {
   "cell_type": "markdown",
   "id": "66ae8885",
   "metadata": {},
   "source": [
    "# Define y(dependent or label or target variable) and X (independent or features or attribute variable)"
   ]
  },
  {
   "cell_type": "code",
   "execution_count": 12,
   "id": "0aaa1091",
   "metadata": {},
   "outputs": [],
   "source": [
    "y=df['Class']"
   ]
  },
  {
   "cell_type": "code",
   "execution_count": 13,
   "id": "3cbbcb48",
   "metadata": {},
   "outputs": [
    {
     "data": {
      "text/plain": [
       "(1212,)"
      ]
     },
     "execution_count": 13,
     "metadata": {},
     "output_type": "execute_result"
    }
   ],
   "source": [
    "y.shape"
   ]
  },
  {
   "cell_type": "code",
   "execution_count": 14,
   "id": "4e4db2c0",
   "metadata": {},
   "outputs": [
    {
     "data": {
      "text/plain": [
       "0       0\n",
       "1       1\n",
       "2       1\n",
       "3       0\n",
       "4       0\n",
       "       ..\n",
       "1207    1\n",
       "1208    0\n",
       "1209    1\n",
       "1210    1\n",
       "1211    0\n",
       "Name: Class, Length: 1212, dtype: int64"
      ]
     },
     "execution_count": 14,
     "metadata": {},
     "output_type": "execute_result"
    }
   ],
   "source": [
    "y"
   ]
  },
  {
   "cell_type": "code",
   "execution_count": 15,
   "id": "da0bc9c6",
   "metadata": {},
   "outputs": [],
   "source": [
    "X=df.drop('Class',axis=1)"
   ]
  },
  {
   "cell_type": "code",
   "execution_count": 16,
   "id": "16883c3c",
   "metadata": {},
   "outputs": [
    {
     "data": {
      "text/plain": [
       "(1212, 100)"
      ]
     },
     "execution_count": 16,
     "metadata": {},
     "output_type": "execute_result"
    }
   ],
   "source": [
    "X.shape"
   ]
  },
  {
   "cell_type": "code",
   "execution_count": 17,
   "id": "302720c8",
   "metadata": {},
   "outputs": [
    {
     "data": {
      "text/html": [
       "<div>\n",
       "<style scoped>\n",
       "    .dataframe tbody tr th:only-of-type {\n",
       "        vertical-align: middle;\n",
       "    }\n",
       "\n",
       "    .dataframe tbody tr th {\n",
       "        vertical-align: top;\n",
       "    }\n",
       "\n",
       "    .dataframe thead th {\n",
       "        text-align: right;\n",
       "    }\n",
       "</style>\n",
       "<table border=\"1\" class=\"dataframe\">\n",
       "  <thead>\n",
       "    <tr style=\"text-align: right;\">\n",
       "      <th></th>\n",
       "      <th>V1</th>\n",
       "      <th>V2</th>\n",
       "      <th>V3</th>\n",
       "      <th>V4</th>\n",
       "      <th>V5</th>\n",
       "      <th>V6</th>\n",
       "      <th>V7</th>\n",
       "      <th>V8</th>\n",
       "      <th>V9</th>\n",
       "      <th>V10</th>\n",
       "      <th>...</th>\n",
       "      <th>V91</th>\n",
       "      <th>V92</th>\n",
       "      <th>V93</th>\n",
       "      <th>V94</th>\n",
       "      <th>V95</th>\n",
       "      <th>V96</th>\n",
       "      <th>V97</th>\n",
       "      <th>V98</th>\n",
       "      <th>V99</th>\n",
       "      <th>V100</th>\n",
       "    </tr>\n",
       "  </thead>\n",
       "  <tbody>\n",
       "    <tr>\n",
       "      <th>0</th>\n",
       "      <td>39.02</td>\n",
       "      <td>36.49</td>\n",
       "      <td>38.20</td>\n",
       "      <td>38.85</td>\n",
       "      <td>39.38</td>\n",
       "      <td>39.74</td>\n",
       "      <td>37.02</td>\n",
       "      <td>39.53</td>\n",
       "      <td>38.81</td>\n",
       "      <td>38.79</td>\n",
       "      <td>...</td>\n",
       "      <td>37.57</td>\n",
       "      <td>36.62</td>\n",
       "      <td>36.92</td>\n",
       "      <td>38.80</td>\n",
       "      <td>38.52</td>\n",
       "      <td>38.07</td>\n",
       "      <td>36.73</td>\n",
       "      <td>39.46</td>\n",
       "      <td>37.50</td>\n",
       "      <td>39.10</td>\n",
       "    </tr>\n",
       "    <tr>\n",
       "      <th>1</th>\n",
       "      <td>1.83</td>\n",
       "      <td>1.71</td>\n",
       "      <td>1.77</td>\n",
       "      <td>1.77</td>\n",
       "      <td>1.68</td>\n",
       "      <td>1.78</td>\n",
       "      <td>1.80</td>\n",
       "      <td>1.70</td>\n",
       "      <td>1.75</td>\n",
       "      <td>1.78</td>\n",
       "      <td>...</td>\n",
       "      <td>1.71</td>\n",
       "      <td>1.80</td>\n",
       "      <td>1.79</td>\n",
       "      <td>1.77</td>\n",
       "      <td>1.74</td>\n",
       "      <td>1.74</td>\n",
       "      <td>1.80</td>\n",
       "      <td>1.78</td>\n",
       "      <td>1.75</td>\n",
       "      <td>1.69</td>\n",
       "    </tr>\n",
       "    <tr>\n",
       "      <th>2</th>\n",
       "      <td>68177.69</td>\n",
       "      <td>66138.42</td>\n",
       "      <td>72981.88</td>\n",
       "      <td>74304.33</td>\n",
       "      <td>67549.66</td>\n",
       "      <td>69367.34</td>\n",
       "      <td>69169.41</td>\n",
       "      <td>73268.61</td>\n",
       "      <td>74465.84</td>\n",
       "      <td>72503.37</td>\n",
       "      <td>...</td>\n",
       "      <td>69384.71</td>\n",
       "      <td>73438.88</td>\n",
       "      <td>71053.35</td>\n",
       "      <td>71112.62</td>\n",
       "      <td>74916.48</td>\n",
       "      <td>72571.58</td>\n",
       "      <td>66348.97</td>\n",
       "      <td>71063.72</td>\n",
       "      <td>67404.27</td>\n",
       "      <td>74920.24</td>\n",
       "    </tr>\n",
       "    <tr>\n",
       "      <th>3</th>\n",
       "      <td>44889.06</td>\n",
       "      <td>39191.86</td>\n",
       "      <td>40728.46</td>\n",
       "      <td>38576.36</td>\n",
       "      <td>45876.06</td>\n",
       "      <td>47034.00</td>\n",
       "      <td>46611.43</td>\n",
       "      <td>37668.32</td>\n",
       "      <td>40980.89</td>\n",
       "      <td>38466.15</td>\n",
       "      <td>...</td>\n",
       "      <td>47653.60</td>\n",
       "      <td>42625.67</td>\n",
       "      <td>40684.20</td>\n",
       "      <td>46960.73</td>\n",
       "      <td>44546.80</td>\n",
       "      <td>45410.53</td>\n",
       "      <td>47139.44</td>\n",
       "      <td>43095.68</td>\n",
       "      <td>40888.34</td>\n",
       "      <td>39615.19</td>\n",
       "    </tr>\n",
       "    <tr>\n",
       "      <th>4</th>\n",
       "      <td>5.70</td>\n",
       "      <td>5.40</td>\n",
       "      <td>5.28</td>\n",
       "      <td>5.38</td>\n",
       "      <td>5.27</td>\n",
       "      <td>5.61</td>\n",
       "      <td>6.00</td>\n",
       "      <td>5.38</td>\n",
       "      <td>5.34</td>\n",
       "      <td>5.87</td>\n",
       "      <td>...</td>\n",
       "      <td>5.52</td>\n",
       "      <td>5.17</td>\n",
       "      <td>5.67</td>\n",
       "      <td>5.60</td>\n",
       "      <td>5.94</td>\n",
       "      <td>5.73</td>\n",
       "      <td>5.22</td>\n",
       "      <td>5.30</td>\n",
       "      <td>5.73</td>\n",
       "      <td>5.91</td>\n",
       "    </tr>\n",
       "    <tr>\n",
       "      <th>...</th>\n",
       "      <td>...</td>\n",
       "      <td>...</td>\n",
       "      <td>...</td>\n",
       "      <td>...</td>\n",
       "      <td>...</td>\n",
       "      <td>...</td>\n",
       "      <td>...</td>\n",
       "      <td>...</td>\n",
       "      <td>...</td>\n",
       "      <td>...</td>\n",
       "      <td>...</td>\n",
       "      <td>...</td>\n",
       "      <td>...</td>\n",
       "      <td>...</td>\n",
       "      <td>...</td>\n",
       "      <td>...</td>\n",
       "      <td>...</td>\n",
       "      <td>...</td>\n",
       "      <td>...</td>\n",
       "      <td>...</td>\n",
       "      <td>...</td>\n",
       "    </tr>\n",
       "    <tr>\n",
       "      <th>1207</th>\n",
       "      <td>13.00</td>\n",
       "      <td>12.87</td>\n",
       "      <td>13.27</td>\n",
       "      <td>13.04</td>\n",
       "      <td>13.19</td>\n",
       "      <td>12.53</td>\n",
       "      <td>14.31</td>\n",
       "      <td>13.33</td>\n",
       "      <td>13.63</td>\n",
       "      <td>14.55</td>\n",
       "      <td>...</td>\n",
       "      <td>12.89</td>\n",
       "      <td>12.48</td>\n",
       "      <td>12.15</td>\n",
       "      <td>13.15</td>\n",
       "      <td>12.35</td>\n",
       "      <td>13.58</td>\n",
       "      <td>13.86</td>\n",
       "      <td>12.88</td>\n",
       "      <td>13.87</td>\n",
       "      <td>13.51</td>\n",
       "    </tr>\n",
       "    <tr>\n",
       "      <th>1208</th>\n",
       "      <td>48.66</td>\n",
       "      <td>50.11</td>\n",
       "      <td>48.55</td>\n",
       "      <td>50.43</td>\n",
       "      <td>50.09</td>\n",
       "      <td>49.67</td>\n",
       "      <td>48.95</td>\n",
       "      <td>48.65</td>\n",
       "      <td>48.63</td>\n",
       "      <td>48.61</td>\n",
       "      <td>...</td>\n",
       "      <td>47.45</td>\n",
       "      <td>46.93</td>\n",
       "      <td>49.61</td>\n",
       "      <td>47.16</td>\n",
       "      <td>48.17</td>\n",
       "      <td>47.94</td>\n",
       "      <td>49.81</td>\n",
       "      <td>49.89</td>\n",
       "      <td>47.43</td>\n",
       "      <td>47.77</td>\n",
       "    </tr>\n",
       "    <tr>\n",
       "      <th>1209</th>\n",
       "      <td>10160.65</td>\n",
       "      <td>9048.63</td>\n",
       "      <td>8994.94</td>\n",
       "      <td>9514.39</td>\n",
       "      <td>9814.74</td>\n",
       "      <td>10195.24</td>\n",
       "      <td>10031.47</td>\n",
       "      <td>10202.28</td>\n",
       "      <td>9152.99</td>\n",
       "      <td>9591.75</td>\n",
       "      <td>...</td>\n",
       "      <td>10413.41</td>\n",
       "      <td>9068.11</td>\n",
       "      <td>9191.80</td>\n",
       "      <td>9275.04</td>\n",
       "      <td>9848.18</td>\n",
       "      <td>9074.17</td>\n",
       "      <td>9601.74</td>\n",
       "      <td>10366.24</td>\n",
       "      <td>8997.60</td>\n",
       "      <td>9305.77</td>\n",
       "    </tr>\n",
       "    <tr>\n",
       "      <th>1210</th>\n",
       "      <td>34.81</td>\n",
       "      <td>35.07</td>\n",
       "      <td>34.98</td>\n",
       "      <td>32.37</td>\n",
       "      <td>34.16</td>\n",
       "      <td>34.03</td>\n",
       "      <td>33.31</td>\n",
       "      <td>32.48</td>\n",
       "      <td>35.63</td>\n",
       "      <td>32.48</td>\n",
       "      <td>...</td>\n",
       "      <td>33.18</td>\n",
       "      <td>32.76</td>\n",
       "      <td>35.03</td>\n",
       "      <td>32.89</td>\n",
       "      <td>31.91</td>\n",
       "      <td>33.85</td>\n",
       "      <td>35.28</td>\n",
       "      <td>32.49</td>\n",
       "      <td>32.83</td>\n",
       "      <td>34.82</td>\n",
       "    </tr>\n",
       "    <tr>\n",
       "      <th>1211</th>\n",
       "      <td>8489.43</td>\n",
       "      <td>7672.98</td>\n",
       "      <td>9132.14</td>\n",
       "      <td>7985.73</td>\n",
       "      <td>8226.85</td>\n",
       "      <td>8554.28</td>\n",
       "      <td>8838.87</td>\n",
       "      <td>8967.24</td>\n",
       "      <td>8635.14</td>\n",
       "      <td>8544.37</td>\n",
       "      <td>...</td>\n",
       "      <td>7747.70</td>\n",
       "      <td>8609.73</td>\n",
       "      <td>9209.48</td>\n",
       "      <td>8496.33</td>\n",
       "      <td>8724.01</td>\n",
       "      <td>8219.99</td>\n",
       "      <td>8550.86</td>\n",
       "      <td>8679.43</td>\n",
       "      <td>8389.31</td>\n",
       "      <td>8712.80</td>\n",
       "    </tr>\n",
       "  </tbody>\n",
       "</table>\n",
       "<p>1212 rows × 100 columns</p>\n",
       "</div>"
      ],
      "text/plain": [
       "            V1        V2        V3        V4        V5        V6        V7  \\\n",
       "0        39.02     36.49     38.20     38.85     39.38     39.74     37.02   \n",
       "1         1.83      1.71      1.77      1.77      1.68      1.78      1.80   \n",
       "2     68177.69  66138.42  72981.88  74304.33  67549.66  69367.34  69169.41   \n",
       "3     44889.06  39191.86  40728.46  38576.36  45876.06  47034.00  46611.43   \n",
       "4         5.70      5.40      5.28      5.38      5.27      5.61      6.00   \n",
       "...        ...       ...       ...       ...       ...       ...       ...   \n",
       "1207     13.00     12.87     13.27     13.04     13.19     12.53     14.31   \n",
       "1208     48.66     50.11     48.55     50.43     50.09     49.67     48.95   \n",
       "1209  10160.65   9048.63   8994.94   9514.39   9814.74  10195.24  10031.47   \n",
       "1210     34.81     35.07     34.98     32.37     34.16     34.03     33.31   \n",
       "1211   8489.43   7672.98   9132.14   7985.73   8226.85   8554.28   8838.87   \n",
       "\n",
       "            V8        V9       V10  ...       V91       V92       V93  \\\n",
       "0        39.53     38.81     38.79  ...     37.57     36.62     36.92   \n",
       "1         1.70      1.75      1.78  ...      1.71      1.80      1.79   \n",
       "2     73268.61  74465.84  72503.37  ...  69384.71  73438.88  71053.35   \n",
       "3     37668.32  40980.89  38466.15  ...  47653.60  42625.67  40684.20   \n",
       "4         5.38      5.34      5.87  ...      5.52      5.17      5.67   \n",
       "...        ...       ...       ...  ...       ...       ...       ...   \n",
       "1207     13.33     13.63     14.55  ...     12.89     12.48     12.15   \n",
       "1208     48.65     48.63     48.61  ...     47.45     46.93     49.61   \n",
       "1209  10202.28   9152.99   9591.75  ...  10413.41   9068.11   9191.80   \n",
       "1210     32.48     35.63     32.48  ...     33.18     32.76     35.03   \n",
       "1211   8967.24   8635.14   8544.37  ...   7747.70   8609.73   9209.48   \n",
       "\n",
       "           V94       V95       V96       V97       V98       V99      V100  \n",
       "0        38.80     38.52     38.07     36.73     39.46     37.50     39.10  \n",
       "1         1.77      1.74      1.74      1.80      1.78      1.75      1.69  \n",
       "2     71112.62  74916.48  72571.58  66348.97  71063.72  67404.27  74920.24  \n",
       "3     46960.73  44546.80  45410.53  47139.44  43095.68  40888.34  39615.19  \n",
       "4         5.60      5.94      5.73      5.22      5.30      5.73      5.91  \n",
       "...        ...       ...       ...       ...       ...       ...       ...  \n",
       "1207     13.15     12.35     13.58     13.86     12.88     13.87     13.51  \n",
       "1208     47.16     48.17     47.94     49.81     49.89     47.43     47.77  \n",
       "1209   9275.04   9848.18   9074.17   9601.74  10366.24   8997.60   9305.77  \n",
       "1210     32.89     31.91     33.85     35.28     32.49     32.83     34.82  \n",
       "1211   8496.33   8724.01   8219.99   8550.86   8679.43   8389.31   8712.80  \n",
       "\n",
       "[1212 rows x 100 columns]"
      ]
     },
     "execution_count": 17,
     "metadata": {},
     "output_type": "execute_result"
    }
   ],
   "source": [
    "X"
   ]
  },
  {
   "cell_type": "markdown",
   "id": "400acf3d",
   "metadata": {},
   "source": [
    "# Get plot of first two rows"
   ]
  },
  {
   "cell_type": "code",
   "execution_count": 18,
   "id": "100fd26b",
   "metadata": {},
   "outputs": [],
   "source": [
    "import matplotlib.pyplot as plt"
   ]
  },
  {
   "cell_type": "code",
   "execution_count": 19,
   "id": "9af1de21",
   "metadata": {},
   "outputs": [
    {
     "data": {
      "image/png": "[encoded data removed]",
      "text/plain": [
       "<Figure size 432x288 with 1 Axes>"
      ]
     },
     "metadata": {
      "needs_background": "light"
     },
     "output_type": "display_data"
    }
   ],
   "source": [
    "plt.plot(X.iloc[0,:])\n",
    "plt.title('valley');"
   ]
  },
  {
   "cell_type": "code",
   "execution_count": 20,
   "id": "68483034",
   "metadata": {},
   "outputs": [
    {
     "data": {
      "image/png": "[encoded data removed]",
      "text/plain": [
       "<Figure size 432x288 with 1 Axes>"
      ]
     },
     "metadata": {
      "needs_background": "light"
     },
     "output_type": "display_data"
    }
   ],
   "source": [
    "plt.plot(X.iloc[1,:])\n",
    "plt.title('hill');"
   ]
  },
  {
   "cell_type": "markdown",
   "id": "f859b053",
   "metadata": {},
   "source": [
    "# Get X variables standarised"
   ]
  },
  {
   "cell_type": "code",
   "execution_count": 21,
   "id": "f9e2f008",
   "metadata": {},
   "outputs": [],
   "source": [
    "from sklearn.preprocessing import StandardScaler"
   ]
  },
  {
   "cell_type": "code",
   "execution_count": 22,
   "id": "24b456da",
   "metadata": {},
   "outputs": [],
   "source": [
    "ss=StandardScaler()"
   ]
  },
  {
   "cell_type": "code",
   "execution_count": 23,
   "id": "212a4def",
   "metadata": {},
   "outputs": [],
   "source": [
    "X=ss.fit_transform(X)"
   ]
  },
  {
   "cell_type": "code",
   "execution_count": 24,
   "id": "6c731032",
   "metadata": {},
   "outputs": [
    {
     "data": {
      "text/plain": [
       "array([[-0.45248681, -0.45361784, -0.45100881, ..., -0.45609618,\n",
       "        -0.45164274, -0.45545496],\n",
       "       [-0.45455665, -0.45556372, -0.45302369, ..., -0.45821768,\n",
       "        -0.45362255, -0.45755405],\n",
       "       [ 3.33983504,  3.24466709,  3.58338069, ...,  3.5427869 ,\n",
       "         3.27907378,  3.74616847],\n",
       "       ...,\n",
       "       [ 0.11084204,  0.0505953 ,  0.04437307, ...,  0.12533312,\n",
       "         0.04456025,  0.06450317],\n",
       "       [-0.45272112, -0.45369729, -0.45118691, ..., -0.45648861,\n",
       "        -0.45190136, -0.45569511],\n",
       "       [ 0.01782872, -0.02636986,  0.05196137, ...,  0.03036056,\n",
       "         0.01087365,  0.03123129]])"
      ]
     },
     "execution_count": 24,
     "metadata": {},
     "output_type": "execute_result"
    }
   ],
   "source": [
    "X"
   ]
  },
  {
   "cell_type": "code",
   "execution_count": 25,
   "id": "bd6c5575",
   "metadata": {},
   "outputs": [
    {
     "data": {
      "text/plain": [
       "(1212, 100)"
      ]
     },
     "execution_count": 25,
     "metadata": {},
     "output_type": "execute_result"
    }
   ],
   "source": [
    "X.shape"
   ]
  },
  {
   "cell_type": "markdown",
   "id": "4c251407",
   "metadata": {},
   "source": [
    "# Get train test split"
   ]
  },
  {
   "cell_type": "code",
   "execution_count": 26,
   "id": "3e1708b8",
   "metadata": {},
   "outputs": [],
   "source": [
    "from sklearn.model_selection import train_test_split"
   ]
  },
  {
   "cell_type": "code",
   "execution_count": 27,
   "id": "bc4e67c0",
   "metadata": {},
   "outputs": [],
   "source": [
    "X_train, X_test, y_train, y_test = train_test_split(X,y, test_size=0.3, stratify=y, random_state=2529)"
   ]
  },
  {
   "cell_type": "code",
   "execution_count": 28,
   "id": "5c15812f",
   "metadata": {},
   "outputs": [
    {
     "data": {
      "text/plain": [
       "((848, 100), (364, 100), (848,), (364,))"
      ]
     },
     "execution_count": 28,
     "metadata": {},
     "output_type": "execute_result"
    }
   ],
   "source": [
    "X_train.shape, X_test.shape, y_train.shape, y_test.shape"
   ]
  },
  {
   "cell_type": "markdown",
   "id": "ed139e00",
   "metadata": {},
   "source": [
    "# Get Model Train"
   ]
  },
  {
   "cell_type": "code",
   "execution_count": 29,
   "id": "8062830a",
   "metadata": {},
   "outputs": [],
   "source": [
    "from sklearn.linear_model import LogisticRegression"
   ]
  },
  {
   "cell_type": "code",
   "execution_count": 30,
   "id": "e3221249",
   "metadata": {},
   "outputs": [],
   "source": [
    "lr=LogisticRegression()"
   ]
  },
  {
   "cell_type": "code",
   "execution_count": 31,
   "id": "1bb9e08f",
   "metadata": {},
   "outputs": [
    {
     "data": {
      "text/plain": [
       "LogisticRegression()"
      ]
     },
     "execution_count": 31,
     "metadata": {},
     "output_type": "execute_result"
    }
   ],
   "source": [
    "lr.fit(X_train,y_train)"
   ]
  },
  {
   "cell_type": "markdown",
   "id": "3cd72308",
   "metadata": {},
   "source": [
    "# Get Model Prediction"
   ]
  },
  {
   "cell_type": "code",
   "execution_count": 32,
   "id": "cdb145e2",
   "metadata": {},
   "outputs": [],
   "source": [
    "y_pred=lr.predict(X_test)"
   ]
  },
  {
   "cell_type": "code",
   "execution_count": 33,
   "id": "41cd4030",
   "metadata": {},
   "outputs": [
    {
     "data": {
      "text/plain": [
       "(364,)"
      ]
     },
     "execution_count": 33,
     "metadata": {},
     "output_type": "execute_result"
    }
   ],
   "source": [
    "y_pred.shape"
   ]
  },
  {
   "cell_type": "code",
   "execution_count": 34,
   "id": "c5522d99",
   "metadata": {},
   "outputs": [
    {
     "data": {
      "text/plain": [
       "array([0, 0, 0, 0, 0, 0, 0, 0, 0, 0, 0, 0, 0, 0, 0, 0, 1, 0, 0, 0, 1, 1,\n",
       "       0, 1, 0, 0, 0, 0, 0, 0, 1, 0, 1, 0, 0, 0, 0, 0, 0, 0, 0, 0, 1, 0,\n",
       "       0, 1, 0, 0, 0, 0, 0, 0, 0, 0, 0, 0, 0, 0, 0, 1, 0, 0, 0, 1, 0, 0,\n",
       "       0, 1, 0, 0, 0, 0, 0, 0, 0, 0, 1, 1, 0, 0, 0, 0, 0, 1, 0, 0, 0, 0,\n",
       "       0, 0, 0, 0, 0, 0, 0, 1, 1, 0, 0, 0, 0, 1, 0, 0, 0, 0, 0, 0, 0, 0,\n",
       "       1, 0, 0, 0, 0, 1, 0, 0, 0, 0, 0, 1, 0, 1, 0, 0, 0, 0, 0, 0, 0, 0,\n",
       "       0, 1, 0, 0, 0, 0, 1, 0, 0, 0, 0, 0, 0, 1, 0, 0, 0, 0, 0, 0, 0, 0,\n",
       "       0, 1, 0, 1, 0, 0, 0, 0, 0, 0, 0, 0, 0, 1, 0, 0, 0, 0, 0, 0, 0, 1,\n",
       "       0, 0, 0, 0, 0, 0, 0, 0, 0, 0, 1, 0, 0, 1, 0, 1, 0, 1, 0, 0, 0, 0,\n",
       "       0, 0, 0, 0, 0, 1, 1, 0, 0, 0, 0, 0, 0, 0, 1, 0, 1, 0, 0, 0, 1, 1,\n",
       "       0, 0, 0, 1, 0, 1, 0, 0, 0, 0, 1, 0, 1, 1, 0, 0, 1, 1, 0, 0, 1, 0,\n",
       "       0, 1, 0, 0, 0, 0, 0, 0, 0, 1, 0, 1, 0, 1, 0, 0, 0, 0, 1, 0, 1, 0,\n",
       "       0, 0, 0, 0, 0, 0, 0, 0, 0, 0, 0, 1, 0, 0, 0, 0, 0, 0, 0, 0, 0, 0,\n",
       "       0, 0, 1, 0, 0, 0, 1, 0, 1, 0, 1, 1, 1, 0, 1, 0, 0, 0, 1, 0, 1, 0,\n",
       "       1, 0, 0, 0, 0, 1, 1, 0, 0, 0, 0, 0, 0, 1, 0, 1, 0, 1, 1, 1, 0, 0,\n",
       "       0, 0, 0, 1, 0, 1, 0, 0, 0, 0, 0, 0, 0, 0, 1, 0, 0, 0, 1, 0, 0, 0,\n",
       "       0, 1, 0, 0, 0, 0, 0, 0, 0, 1, 0, 1], dtype=int64)"
      ]
     },
     "execution_count": 34,
     "metadata": {},
     "output_type": "execute_result"
    }
   ],
   "source": [
    "y_pred"
   ]
  },
  {
   "cell_type": "markdown",
   "id": "e6185b39",
   "metadata": {},
   "source": [
    "# Get Probability of each predicted class "
   ]
  },
  {
   "cell_type": "code",
   "execution_count": 35,
   "id": "db5dec6d",
   "metadata": {},
   "outputs": [
    {
     "data": {
      "text/plain": [
       "array([[0.56336743, 0.43663257],\n",
       "       [0.50327036, 0.49672964],\n",
       "       [0.5744651 , 0.4255349 ],\n",
       "       [0.50737523, 0.49262477],\n",
       "       [0.50767476, 0.49232524],\n",
       "       [0.50870658, 0.49129342],\n",
       "       [0.50793215, 0.49206785],\n",
       "       [0.60357911, 0.39642089],\n",
       "       [0.51009653, 0.48990347],\n",
       "       [0.50964833, 0.49035167],\n",
       "       [0.5072121 , 0.4927879 ],\n",
       "       [0.51503416, 0.48496584],\n",
       "       [0.9359586 , 0.0640414 ],\n",
       "       [0.5096882 , 0.4903118 ],\n",
       "       [0.52004957, 0.47995043],\n",
       "       [0.73731192, 0.26268808],\n",
       "       [0.47389169, 0.52610831],\n",
       "       [0.50781845, 0.49218155],\n",
       "       [0.50862143, 0.49137857],\n",
       "       [0.50863418, 0.49136582],\n",
       "       [0.29771937, 0.70228063],\n",
       "       [0.38273301, 0.61726699],\n",
       "       [0.50865393, 0.49134607],\n",
       "       [0.28367971, 0.71632029],\n",
       "       [0.5087318 , 0.4912682 ],\n",
       "       [0.50707759, 0.49292241],\n",
       "       [0.50896134, 0.49103866],\n",
       "       [0.50811695, 0.49188305],\n",
       "       [0.50861555, 0.49138445],\n",
       "       [0.50748418, 0.49251582],\n",
       "       [0.41565131, 0.58434869],\n",
       "       [0.51322172, 0.48677828],\n",
       "       [0.19965035, 0.80034965],\n",
       "       [0.74863303, 0.25136697],\n",
       "       [0.5086539 , 0.4913461 ],\n",
       "       [0.50862562, 0.49137438],\n",
       "       [0.50868079, 0.49131921],\n",
       "       [0.50853408, 0.49146592],\n",
       "       [0.51269829, 0.48730171],\n",
       "       [0.51582679, 0.48417321],\n",
       "       [0.50858122, 0.49141878],\n",
       "       [0.52031809, 0.47968191],\n",
       "       [0.28012048, 0.71987952],\n",
       "       [0.51125977, 0.48874023],\n",
       "       [0.54087675, 0.45912325],\n",
       "       [0.46730929, 0.53269071],\n",
       "       [0.50822762, 0.49177238],\n",
       "       [0.52388229, 0.47611771],\n",
       "       [0.50104299, 0.49895701],\n",
       "       [0.5087587 , 0.4912413 ],\n",
       "       [0.508643  , 0.491357  ],\n",
       "       [0.5404301 , 0.4595699 ],\n",
       "       [0.50846683, 0.49153317],\n",
       "       [0.50733901, 0.49266099],\n",
       "       [0.51454787, 0.48545213],\n",
       "       [0.50856523, 0.49143477],\n",
       "       [0.50860435, 0.49139565],\n",
       "       [0.50893171, 0.49106829],\n",
       "       [0.55860167, 0.44139833],\n",
       "       [0.35542756, 0.64457244],\n",
       "       [0.50448796, 0.49551204],\n",
       "       [0.50859469, 0.49140531],\n",
       "       [0.5086233 , 0.4913767 ],\n",
       "       [0.3350802 , 0.6649198 ],\n",
       "       [0.51012542, 0.48987458],\n",
       "       [0.50853878, 0.49146122],\n",
       "       [0.56765072, 0.43234928],\n",
       "       [0.4783306 , 0.5216694 ],\n",
       "       [0.5086715 , 0.4913285 ],\n",
       "       [0.50644913, 0.49355087],\n",
       "       [0.50905598, 0.49094402],\n",
       "       [0.5086281 , 0.4913719 ],\n",
       "       [0.51023785, 0.48976215],\n",
       "       [0.50829137, 0.49170863],\n",
       "       [0.50959781, 0.49040219],\n",
       "       [0.59324189, 0.40675811],\n",
       "       [0.40833643, 0.59166357],\n",
       "       [0.36255743, 0.63744257],\n",
       "       [0.77441812, 0.22558188],\n",
       "       [0.54037266, 0.45962734],\n",
       "       [0.50859008, 0.49140992],\n",
       "       [0.50863829, 0.49136171],\n",
       "       [0.50820558, 0.49179442],\n",
       "       [0.49643968, 0.50356032],\n",
       "       [0.50859088, 0.49140912],\n",
       "       [0.50399119, 0.49600881],\n",
       "       [0.50865057, 0.49134943],\n",
       "       [0.50908457, 0.49091543],\n",
       "       [0.50847805, 0.49152195],\n",
       "       [0.50056182, 0.49943818],\n",
       "       [0.64764173, 0.35235827],\n",
       "       [0.50865272, 0.49134728],\n",
       "       [0.50962529, 0.49037471],\n",
       "       [0.52175688, 0.47824312],\n",
       "       [0.50861731, 0.49138269],\n",
       "       [0.00188839, 0.99811161],\n",
       "       [0.45882119, 0.54117881],\n",
       "       [0.60418363, 0.39581637],\n",
       "       [0.50866309, 0.49133691],\n",
       "       [0.53064518, 0.46935482],\n",
       "       [0.51532303, 0.48467697],\n",
       "       [0.49165315, 0.50834685],\n",
       "       [0.54605771, 0.45394229],\n",
       "       [0.50882287, 0.49117713],\n",
       "       [0.50537029, 0.49462971],\n",
       "       [0.55736614, 0.44263386],\n",
       "       [0.50833558, 0.49166442],\n",
       "       [0.50016452, 0.49983548],\n",
       "       [0.50861665, 0.49138335],\n",
       "       [0.50792354, 0.49207646],\n",
       "       [0.27493135, 0.72506865],\n",
       "       [0.50848804, 0.49151196],\n",
       "       [0.51027348, 0.48972652],\n",
       "       [0.50866433, 0.49133567],\n",
       "       [0.55368438, 0.44631562],\n",
       "       [0.14525858, 0.85474142],\n",
       "       [0.50812563, 0.49187437],\n",
       "       [0.50425639, 0.49574361],\n",
       "       [0.83669289, 0.16330711],\n",
       "       [0.51807389, 0.48192611],\n",
       "       [0.5093429 , 0.4906571 ],\n",
       "       [0.38916499, 0.61083501],\n",
       "       [0.50855266, 0.49144734],\n",
       "       [0.48813822, 0.51186178],\n",
       "       [0.50865029, 0.49134971],\n",
       "       [0.50869165, 0.49130835],\n",
       "       [0.50748318, 0.49251682],\n",
       "       [0.51478611, 0.48521389],\n",
       "       [0.50957084, 0.49042916],\n",
       "       [0.56654947, 0.43345053],\n",
       "       [0.50531203, 0.49468797],\n",
       "       [0.52184107, 0.47815893],\n",
       "       [0.50901837, 0.49098163],\n",
       "       [0.47509918, 0.52490082],\n",
       "       [0.54368225, 0.45631775],\n",
       "       [0.50843515, 0.49156485],\n",
       "       [0.51352796, 0.48647204],\n",
       "       [0.50857306, 0.49142694],\n",
       "       [0.48070574, 0.51929426],\n",
       "       [0.50821317, 0.49178683],\n",
       "       [0.50859263, 0.49140737],\n",
       "       [0.61181143, 0.38818857],\n",
       "       [0.50871786, 0.49128214],\n",
       "       [0.5096574 , 0.4903426 ],\n",
       "       [0.50876593, 0.49123407],\n",
       "       [0.26235722, 0.73764278],\n",
       "       [0.50862098, 0.49137902],\n",
       "       [0.71522873, 0.28477127],\n",
       "       [0.50880257, 0.49119743],\n",
       "       [0.50865612, 0.49134388],\n",
       "       [0.50858523, 0.49141477],\n",
       "       [0.50864686, 0.49135314],\n",
       "       [0.88654952, 0.11345048],\n",
       "       [0.50865941, 0.49134059],\n",
       "       [0.50865121, 0.49134879],\n",
       "       [0.10671289, 0.89328711],\n",
       "       [0.50865423, 0.49134577],\n",
       "       [0.4118885 , 0.5881115 ],\n",
       "       [0.5557271 , 0.4442729 ],\n",
       "       [0.51395262, 0.48604738],\n",
       "       [0.50861693, 0.49138307],\n",
       "       [0.89581587, 0.10418413],\n",
       "       [0.50894478, 0.49105522],\n",
       "       [0.50963737, 0.49036263],\n",
       "       [0.50845819, 0.49154181],\n",
       "       [0.62869575, 0.37130425],\n",
       "       [0.56013679, 0.43986321],\n",
       "       [0.41050705, 0.58949295],\n",
       "       [0.51594204, 0.48405796],\n",
       "       [0.51034501, 0.48965499],\n",
       "       [0.51006376, 0.48993624],\n",
       "       [0.50868311, 0.49131689],\n",
       "       [0.53572344, 0.46427656],\n",
       "       [0.50889248, 0.49110752],\n",
       "       [0.57188348, 0.42811652],\n",
       "       [0.4987623 , 0.5012377 ],\n",
       "       [0.80087402, 0.19912598],\n",
       "       [0.5086501 , 0.4913499 ],\n",
       "       [0.73386093, 0.26613907],\n",
       "       [0.58443595, 0.41556405],\n",
       "       [0.50888941, 0.49111059],\n",
       "       [0.50875191, 0.49124809],\n",
       "       [0.50856453, 0.49143547],\n",
       "       [0.99289372, 0.00710628],\n",
       "       [0.50862516, 0.49137484],\n",
       "       [0.50902013, 0.49097987],\n",
       "       [0.42178743, 0.57821257],\n",
       "       [0.51195923, 0.48804077],\n",
       "       [0.5069338 , 0.4930662 ],\n",
       "       [0.49439742, 0.50560258],\n",
       "       [0.50864167, 0.49135833],\n",
       "       [0.34064698, 0.65935302],\n",
       "       [0.50050906, 0.49949094],\n",
       "       [0.47805582, 0.52194418],\n",
       "       [0.50862872, 0.49137128],\n",
       "       [0.50882092, 0.49117908],\n",
       "       [0.51986748, 0.48013252],\n",
       "       [0.50876507, 0.49123493],\n",
       "       [0.52968381, 0.47031619],\n",
       "       [0.50624452, 0.49375548],\n",
       "       [0.50866734, 0.49133266],\n",
       "       [0.5290812 , 0.4709188 ],\n",
       "       [0.519975  , 0.480025  ],\n",
       "       [0.2995187 , 0.7004813 ],\n",
       "       [0.49516999, 0.50483001],\n",
       "       [0.50677619, 0.49322381],\n",
       "       [0.50861993, 0.49138007],\n",
       "       [0.50847961, 0.49152039],\n",
       "       [0.50858709, 0.49141291],\n",
       "       [0.57059461, 0.42940539],\n",
       "       [0.60694761, 0.39305239],\n",
       "       [0.50848905, 0.49151095],\n",
       "       [0.45270202, 0.54729798],\n",
       "       [0.59825748, 0.40174252],\n",
       "       [0.16132575, 0.83867425],\n",
       "       [0.5086396 , 0.4913604 ],\n",
       "       [0.50972406, 0.49027594],\n",
       "       [0.50865434, 0.49134566],\n",
       "       [0.44337175, 0.55662825],\n",
       "       [0.46571327, 0.53428673],\n",
       "       [0.50860369, 0.49139631],\n",
       "       [0.50273771, 0.49726229],\n",
       "       [0.6542158 , 0.3457842 ],\n",
       "       [0.4883913 , 0.5116087 ],\n",
       "       [0.5086348 , 0.4913652 ],\n",
       "       [0.0332069 , 0.9667931 ],\n",
       "       [0.50858265, 0.49141735],\n",
       "       [0.5081553 , 0.4918447 ],\n",
       "       [0.55923852, 0.44076148],\n",
       "       [0.50893215, 0.49106785],\n",
       "       [0.07230379, 0.92769621],\n",
       "       [0.50858319, 0.49141681],\n",
       "       [0.4224533 , 0.5775467 ],\n",
       "       [0.42780693, 0.57219307],\n",
       "       [0.50889481, 0.49110519],\n",
       "       [0.52570582, 0.47429418],\n",
       "       [0.49822121, 0.50177879],\n",
       "       [0.30161898, 0.69838102],\n",
       "       [0.50821593, 0.49178407],\n",
       "       [0.50888745, 0.49111255],\n",
       "       [0.17537278, 0.82462722],\n",
       "       [0.507106  , 0.492894  ],\n",
       "       [0.78121491, 0.21878509],\n",
       "       [0.48397764, 0.51602236],\n",
       "       [0.50854704, 0.49145296],\n",
       "       [0.51044178, 0.48955822],\n",
       "       [0.80138592, 0.19861408],\n",
       "       [0.50656723, 0.49343277],\n",
       "       [0.50568626, 0.49431374],\n",
       "       [0.50864416, 0.49135584],\n",
       "       [0.50865871, 0.49134129],\n",
       "       [0.30934703, 0.69065297],\n",
       "       [0.50848119, 0.49151881],\n",
       "       [0.05533465, 0.94466535],\n",
       "       [0.50864406, 0.49135594],\n",
       "       [0.45699687, 0.54300313],\n",
       "       [0.5304609 , 0.4695391 ],\n",
       "       [0.50863726, 0.49136274],\n",
       "       [0.50861168, 0.49138832],\n",
       "       [0.50890201, 0.49109799],\n",
       "       [0.49228275, 0.50771725],\n",
       "       [0.55054227, 0.44945773],\n",
       "       [0.49563695, 0.50436305],\n",
       "       [0.50864184, 0.49135816],\n",
       "       [0.50547371, 0.49452629],\n",
       "       [0.50705962, 0.49294038],\n",
       "       [0.50850823, 0.49149177],\n",
       "       [0.50863512, 0.49136488],\n",
       "       [0.60704267, 0.39295733],\n",
       "       [0.50861905, 0.49138095],\n",
       "       [0.50836714, 0.49163286],\n",
       "       [0.50845776, 0.49154224],\n",
       "       [0.51338133, 0.48661867],\n",
       "       [0.50859939, 0.49140061],\n",
       "       [0.50550929, 0.49449071],\n",
       "       [0.37826991, 0.62173009],\n",
       "       [0.50859175, 0.49140825],\n",
       "       [0.91470492, 0.08529508],\n",
       "       [0.50860394, 0.49139606],\n",
       "       [0.50846492, 0.49153508],\n",
       "       [0.5085827 , 0.4914173 ],\n",
       "       [0.50860135, 0.49139865],\n",
       "       [0.51559007, 0.48440993],\n",
       "       [0.50927125, 0.49072875],\n",
       "       [0.50931327, 0.49068673],\n",
       "       [0.51131573, 0.48868427],\n",
       "       [0.50854684, 0.49145316],\n",
       "       [0.50861359, 0.49138641],\n",
       "       [0.43520621, 0.56479379],\n",
       "       [0.50865073, 0.49134927],\n",
       "       [0.51146007, 0.48853993],\n",
       "       [0.50818648, 0.49181352],\n",
       "       [0.46802479, 0.53197521],\n",
       "       [0.50863673, 0.49136327],\n",
       "       [0.40298304, 0.59701696],\n",
       "       [0.52052624, 0.47947376],\n",
       "       [0.44184753, 0.55815247],\n",
       "       [0.45694069, 0.54305931],\n",
       "       [0.3447707 , 0.6552293 ],\n",
       "       [0.50856492, 0.49143508],\n",
       "       [0.32961821, 0.67038179],\n",
       "       [0.5084232 , 0.4915768 ],\n",
       "       [0.50862837, 0.49137163],\n",
       "       [0.50861584, 0.49138416],\n",
       "       [0.49982739, 0.50017261],\n",
       "       [0.50640414, 0.49359586],\n",
       "       [0.00939577, 0.99060423],\n",
       "       [0.50865027, 0.49134973],\n",
       "       [0.4072756 , 0.5927244 ],\n",
       "       [0.50783675, 0.49216325],\n",
       "       [0.50863233, 0.49136767],\n",
       "       [0.50881989, 0.49118011],\n",
       "       [0.50626548, 0.49373452],\n",
       "       [0.48327857, 0.51672143],\n",
       "       [0.4989238 , 0.5010762 ],\n",
       "       [0.50862415, 0.49137585],\n",
       "       [0.5120782 , 0.4879218 ],\n",
       "       [0.87769411, 0.12230589],\n",
       "       [0.50885619, 0.49114381],\n",
       "       [0.5077544 , 0.4922456 ],\n",
       "       [0.50885086, 0.49114914],\n",
       "       [0.45953643, 0.54046357],\n",
       "       [0.50860026, 0.49139974],\n",
       "       [0.49737446, 0.50262554],\n",
       "       [0.50902555, 0.49097445],\n",
       "       [0.03768718, 0.96231282],\n",
       "       [0.46144805, 0.53855195],\n",
       "       [0.499096  , 0.500904  ],\n",
       "       [0.71375099, 0.28624901],\n",
       "       [0.50867121, 0.49132879],\n",
       "       [0.63597658, 0.36402342],\n",
       "       [0.50894065, 0.49105935],\n",
       "       [0.53221089, 0.46778911],\n",
       "       [0.47359178, 0.52640822],\n",
       "       [0.51131839, 0.48868161],\n",
       "       [0.47711037, 0.52288963],\n",
       "       [0.50836865, 0.49163135],\n",
       "       [0.51791137, 0.48208863],\n",
       "       [0.50929627, 0.49070373],\n",
       "       [0.7782442 , 0.2217558 ],\n",
       "       [0.50878249, 0.49121751],\n",
       "       [0.53444804, 0.46555196],\n",
       "       [0.68401995, 0.31598005],\n",
       "       [0.50837602, 0.49162398],\n",
       "       [0.49955889, 0.50044111],\n",
       "       [0.66733462, 0.33266538],\n",
       "       [0.51287011, 0.48712989],\n",
       "       [0.51006838, 0.48993162],\n",
       "       [0.4949386 , 0.5050614 ],\n",
       "       [0.50415411, 0.49584589],\n",
       "       [0.50875421, 0.49124579],\n",
       "       [0.50859966, 0.49140034],\n",
       "       [0.5171463 , 0.4828537 ],\n",
       "       [0.49828537, 0.50171463],\n",
       "       [0.5086824 , 0.4913176 ],\n",
       "       [0.58878492, 0.41121508],\n",
       "       [0.50578143, 0.49421857],\n",
       "       [0.50864401, 0.49135599],\n",
       "       [0.78691967, 0.21308033],\n",
       "       [0.50865311, 0.49134689],\n",
       "       [0.50857367, 0.49142633],\n",
       "       [0.48168716, 0.51831284],\n",
       "       [0.50838589, 0.49161411],\n",
       "       [0.05333436, 0.94666564]])"
      ]
     },
     "execution_count": 35,
     "metadata": {},
     "output_type": "execute_result"
    }
   ],
   "source": [
    "lr.predict_proba(X_test)"
   ]
  },
  {
   "cell_type": "markdown",
   "id": "499cf043",
   "metadata": {},
   "source": [
    "# Get Model Evaluation"
   ]
  },
  {
   "cell_type": "code",
   "execution_count": 36,
   "id": "a1edcbac",
   "metadata": {},
   "outputs": [],
   "source": [
    "from sklearn.metrics import confusion_matrix, classification_report"
   ]
  },
  {
   "cell_type": "code",
   "execution_count": 37,
   "id": "25c15b92",
   "metadata": {},
   "outputs": [
    {
     "name": "stdout",
     "output_type": "stream",
     "text": [
      "[[181   1]\n",
      " [106  76]]\n"
     ]
    }
   ],
   "source": [
    "print(confusion_matrix(y_test,y_pred))"
   ]
  },
  {
   "cell_type": "code",
   "execution_count": 38,
   "id": "0ed2aeee",
   "metadata": {},
   "outputs": [
    {
     "name": "stdout",
     "output_type": "stream",
     "text": [
      "              precision    recall  f1-score   support\n",
      "\n",
      "           0       0.63      0.99      0.77       182\n",
      "           1       0.99      0.42      0.59       182\n",
      "\n",
      "    accuracy                           0.71       364\n",
      "   macro avg       0.81      0.71      0.68       364\n",
      "weighted avg       0.81      0.71      0.68       364\n",
      "\n"
     ]
    }
   ],
   "source": [
    "print(classification_report(y_test,y_pred))"
   ]
  },
  {
   "cell_type": "markdown",
   "id": "d56341df",
   "metadata": {},
   "source": [
    "# Get Fututre Predictions"
   ]
  },
  {
   "cell_type": "code",
   "execution_count": 39,
   "id": "65fd8661",
   "metadata": {},
   "outputs": [],
   "source": [
    "X_new = df.sample(1)"
   ]
  },
  {
   "cell_type": "code",
   "execution_count": 40,
   "id": "e2fdc76e",
   "metadata": {},
   "outputs": [
    {
     "data": {
      "text/html": [
       "<div>\n",
       "<style scoped>\n",
       "    .dataframe tbody tr th:only-of-type {\n",
       "        vertical-align: middle;\n",
       "    }\n",
       "\n",
       "    .dataframe tbody tr th {\n",
       "        vertical-align: top;\n",
       "    }\n",
       "\n",
       "    .dataframe thead th {\n",
       "        text-align: right;\n",
       "    }\n",
       "</style>\n",
       "<table border=\"1\" class=\"dataframe\">\n",
       "  <thead>\n",
       "    <tr style=\"text-align: right;\">\n",
       "      <th></th>\n",
       "      <th>V1</th>\n",
       "      <th>V2</th>\n",
       "      <th>V3</th>\n",
       "      <th>V4</th>\n",
       "      <th>V5</th>\n",
       "      <th>V6</th>\n",
       "      <th>V7</th>\n",
       "      <th>V8</th>\n",
       "      <th>V9</th>\n",
       "      <th>V10</th>\n",
       "      <th>...</th>\n",
       "      <th>V92</th>\n",
       "      <th>V93</th>\n",
       "      <th>V94</th>\n",
       "      <th>V95</th>\n",
       "      <th>V96</th>\n",
       "      <th>V97</th>\n",
       "      <th>V98</th>\n",
       "      <th>V99</th>\n",
       "      <th>V100</th>\n",
       "      <th>Class</th>\n",
       "    </tr>\n",
       "  </thead>\n",
       "  <tbody>\n",
       "    <tr>\n",
       "      <th>590</th>\n",
       "      <td>60648.48</td>\n",
       "      <td>55222.39</td>\n",
       "      <td>53307.64</td>\n",
       "      <td>55389.15</td>\n",
       "      <td>58885.64</td>\n",
       "      <td>57408.09</td>\n",
       "      <td>56620.45</td>\n",
       "      <td>58133.43</td>\n",
       "      <td>61736.77</td>\n",
       "      <td>57494.01</td>\n",
       "      <td>...</td>\n",
       "      <td>56570.68</td>\n",
       "      <td>61166.78</td>\n",
       "      <td>55563.1</td>\n",
       "      <td>56369.98</td>\n",
       "      <td>54665.41</td>\n",
       "      <td>55250.82</td>\n",
       "      <td>60466.02</td>\n",
       "      <td>56169.6</td>\n",
       "      <td>51393.93</td>\n",
       "      <td>1</td>\n",
       "    </tr>\n",
       "  </tbody>\n",
       "</table>\n",
       "<p>1 rows × 101 columns</p>\n",
       "</div>"
      ],
      "text/plain": [
       "           V1        V2        V3        V4        V5        V6        V7  \\\n",
       "590  60648.48  55222.39  53307.64  55389.15  58885.64  57408.09  56620.45   \n",
       "\n",
       "           V8        V9       V10  ...       V92       V93      V94       V95  \\\n",
       "590  58133.43  61736.77  57494.01  ...  56570.68  61166.78  55563.1  56369.98   \n",
       "\n",
       "          V96       V97       V98      V99      V100  Class  \n",
       "590  54665.41  55250.82  60466.02  56169.6  51393.93      1  \n",
       "\n",
       "[1 rows x 101 columns]"
      ]
     },
     "execution_count": 40,
     "metadata": {},
     "output_type": "execute_result"
    }
   ],
   "source": [
    "X_new"
   ]
  },
  {
   "cell_type": "code",
   "execution_count": 41,
   "id": "d4a41035",
   "metadata": {},
   "outputs": [
    {
     "data": {
      "text/plain": [
       "(1, 101)"
      ]
     },
     "execution_count": 41,
     "metadata": {},
     "output_type": "execute_result"
    }
   ],
   "source": [
    "X_new.shape"
   ]
  },
  {
   "cell_type": "code",
   "execution_count": 42,
   "id": "a196c6b9",
   "metadata": {},
   "outputs": [],
   "source": [
    "X_new=X_new.drop('Class',axis=1)"
   ]
  },
  {
   "cell_type": "code",
   "execution_count": 43,
   "id": "44c5ff0a",
   "metadata": {},
   "outputs": [
    {
     "data": {
      "text/html": [
       "<div>\n",
       "<style scoped>\n",
       "    .dataframe tbody tr th:only-of-type {\n",
       "        vertical-align: middle;\n",
       "    }\n",
       "\n",
       "    .dataframe tbody tr th {\n",
       "        vertical-align: top;\n",
       "    }\n",
       "\n",
       "    .dataframe thead th {\n",
       "        text-align: right;\n",
       "    }\n",
       "</style>\n",
       "<table border=\"1\" class=\"dataframe\">\n",
       "  <thead>\n",
       "    <tr style=\"text-align: right;\">\n",
       "      <th></th>\n",
       "      <th>V1</th>\n",
       "      <th>V2</th>\n",
       "      <th>V3</th>\n",
       "      <th>V4</th>\n",
       "      <th>V5</th>\n",
       "      <th>V6</th>\n",
       "      <th>V7</th>\n",
       "      <th>V8</th>\n",
       "      <th>V9</th>\n",
       "      <th>V10</th>\n",
       "      <th>...</th>\n",
       "      <th>V91</th>\n",
       "      <th>V92</th>\n",
       "      <th>V93</th>\n",
       "      <th>V94</th>\n",
       "      <th>V95</th>\n",
       "      <th>V96</th>\n",
       "      <th>V97</th>\n",
       "      <th>V98</th>\n",
       "      <th>V99</th>\n",
       "      <th>V100</th>\n",
       "    </tr>\n",
       "  </thead>\n",
       "  <tbody>\n",
       "    <tr>\n",
       "      <th>590</th>\n",
       "      <td>60648.48</td>\n",
       "      <td>55222.39</td>\n",
       "      <td>53307.64</td>\n",
       "      <td>55389.15</td>\n",
       "      <td>58885.64</td>\n",
       "      <td>57408.09</td>\n",
       "      <td>56620.45</td>\n",
       "      <td>58133.43</td>\n",
       "      <td>61736.77</td>\n",
       "      <td>57494.01</td>\n",
       "      <td>...</td>\n",
       "      <td>53095.43</td>\n",
       "      <td>56570.68</td>\n",
       "      <td>61166.78</td>\n",
       "      <td>55563.1</td>\n",
       "      <td>56369.98</td>\n",
       "      <td>54665.41</td>\n",
       "      <td>55250.82</td>\n",
       "      <td>60466.02</td>\n",
       "      <td>56169.6</td>\n",
       "      <td>51393.93</td>\n",
       "    </tr>\n",
       "  </tbody>\n",
       "</table>\n",
       "<p>1 rows × 100 columns</p>\n",
       "</div>"
      ],
      "text/plain": [
       "           V1        V2        V3        V4        V5        V6        V7  \\\n",
       "590  60648.48  55222.39  53307.64  55389.15  58885.64  57408.09  56620.45   \n",
       "\n",
       "           V8        V9       V10  ...       V91       V92       V93      V94  \\\n",
       "590  58133.43  61736.77  57494.01  ...  53095.43  56570.68  61166.78  55563.1   \n",
       "\n",
       "          V95       V96       V97       V98      V99      V100  \n",
       "590  56369.98  54665.41  55250.82  60466.02  56169.6  51393.93  \n",
       "\n",
       "[1 rows x 100 columns]"
      ]
     },
     "execution_count": 43,
     "metadata": {},
     "output_type": "execute_result"
    }
   ],
   "source": [
    "X_new"
   ]
  },
  {
   "cell_type": "code",
   "execution_count": 44,
   "id": "31b63d63",
   "metadata": {},
   "outputs": [
    {
     "data": {
      "text/plain": [
       "(1, 100)"
      ]
     },
     "execution_count": 44,
     "metadata": {},
     "output_type": "execute_result"
    }
   ],
   "source": [
    "X_new.shape"
   ]
  },
  {
   "cell_type": "code",
   "execution_count": 45,
   "id": "93d6cf09",
   "metadata": {},
   "outputs": [],
   "source": [
    "X_new=ss.fit_transform(X_new)"
   ]
  },
  {
   "cell_type": "code",
   "execution_count": 46,
   "id": "4bf5dae4",
   "metadata": {},
   "outputs": [],
   "source": [
    "y_pred_new=lr.predict(X_new)"
   ]
  },
  {
   "cell_type": "code",
   "execution_count": 47,
   "id": "f39b0e37",
   "metadata": {},
   "outputs": [
    {
     "data": {
      "text/plain": [
       "array([1], dtype=int64)"
      ]
     },
     "execution_count": 47,
     "metadata": {},
     "output_type": "execute_result"
    }
   ],
   "source": [
    "y_pred_new"
   ]
  },
  {
   "cell_type": "code",
   "execution_count": 48,
   "id": "541f4c00",
   "metadata": {},
   "outputs": [
    {
     "data": {
      "text/plain": [
       "array([[0.49714991, 0.50285009]])"
      ]
     },
     "execution_count": 48,
     "metadata": {},
     "output_type": "execute_result"
    }
   ],
   "source": [
    "lr.predict_proba(X_new)"
   ]
  }
 ],
 "metadata": {
  "kernelspec": {
   "display_name": "Python 3 (ipykernel)",
   "language": "python",
   "name": "python3"
  },
  "language_info": {
   "codemirror_mode": {
    "name": "ipython",
    "version": 3
   },
   "file_extension": ".py",
   "mimetype": "text/x-python",
   "name": "python",
   "nbconvert_exporter": "python",
   "pygments_lexer": "ipython3",
   "version": "3.9.7"
  }
 },
 "nbformat": 4,
 "nbformat_minor": 5
}
